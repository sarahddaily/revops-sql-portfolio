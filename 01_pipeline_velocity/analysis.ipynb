import pandas as pd
import matplotlib.pyplot as plt

df = pd.read_csv("dataset.csv")
df['days_to_close'] = (pd.to_datetime(df['closed_date']) -
                       pd.to_datetime(df['created_date'])).dt.days

# average days by stage
summary = df.groupby('stage')['days_to_close'].mean()

summary.plot(kind='bar', title="Average Days in Stage")
plt.show()
