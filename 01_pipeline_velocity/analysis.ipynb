{
 "cells": [
  {
   "cell_type": "markdown",
   "metadata": {},
   "source": [
    "# B2B SaaS Pipeline Analysis\n",
    "This notebook analyzes the fake B2B SaaS deals dataset."
   ]
  },
  {
   "cell_type": "code",
   "execution_count": null,
   "metadata": {},
   "outputs": [],
   "source": [
    "import pandas as pd\n",
    "import matplotlib.pyplot as plt\n",
    "\n",
    "# Load the dataset\n",
    "df = pd.read_csv('dataset.csv')\n",
    "\n",
    "# Convert dates to datetime\n",
    "df['created_date'] = pd.to_datetime(df['created_date'])\n",
    "df['closed_date'] = pd.to_datetime(df['closed_date'], errors='coerce')  # allow NULLs\n",
    "\n",
    "# Quick look at data\n",
    "df.head()"
   ]
  },
  {
   "cell_type": "code",
   "execution_count": null,
   "metadata": {},
   "outputs": [],
   "source": [
    "# Calculate sales cycle in days for closed deals\n",
    "df['sales_cycle_days'] = (df['closed_date'] - df['created_date']).dt.days\n",
    "\n",
    "# Average sales cycle by segment\n",
    "avg_cycle = df.groupby('segment')['sales_cycle_days'].mean()\n",
    "avg_cycle"
   ]
  },
  {
   "cell_type": "code",
   "execution_count": null,
   "metadata": {},
   "outputs": [],
   "source": [
    "# Total revenue by owner\n",
    "revenue_by_owner = df.groupby('owner')['amount'].sum()\n",
    "revenue_by_owner"
   ]
  },
  {
   "cell_type": "code",
   "execution_count": null,
   "metadata": {},
   "outputs": [],
   "source": [
    "# Plot deals by stage\n",
    "stage_counts = df['stage'].value_counts()\n",
    "\n",
    "plt.figure(figsize=(8,5))\n",
    "stage_counts.plot(kind='bar', color='skyblue')\n",
    "plt.title('Number of Deals by Stage')\n",
    "plt.xlabel('Stage')\n",
    "plt.ylabel('Count')\n",
    "plt.show()"
   ]
  }
 ],
 "metadata": {
  "kernelspec": {
   "display_name": "Python 3",
   "language": "python",
   "name": "python3"
  },
  "language_info": {
   "name": "python",
   "version": "3.11"
  }
 },
 "nbformat": 5,
 "nbformat_minor": 10
}
