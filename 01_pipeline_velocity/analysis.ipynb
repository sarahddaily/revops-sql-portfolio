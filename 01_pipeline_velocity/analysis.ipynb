# In a Python shell or Jupyter Notebook
import pandas as pd
import matplotlib.pyplot as plt

# Load dataset
df = pd.read_csv("dataset.csv")

# Convert dates
df["created_date"] = pd.to_datetime(df["created_date"])
df["closed_date"] = pd.to_datetime(df["closed_date"], errors="coerce")

# Calculate sales cycle
df["sales_cycle_days"] = (df["closed_date"] - df["created_date"]).dt.days

# Average sales cycle by segment
avg_cycle = df.groupby("segment")["sales_cycle_days"].mean()
print(avg_cycle)

# Revenue by owner
revenue_by_owner = df.groupby("owner")["amount"].sum()
print(revenue_by_owner)

# Plot deals by stage
df["stage"].value_counts().plot(kind="bar", color="skyblue")
plt.title("Number of Deals by Stage")
plt.xlabel("Stage")
plt.ylabel("Count")
plt.show()
